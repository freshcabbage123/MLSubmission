{
 "cells": [
  {
   "cell_type": "code",
   "execution_count": null,
   "id": "e9edcd7b",
   "metadata": {},
   "outputs": [],
   "source": [
    "# Libraries for data manipulation, visualization, and file operations\n",
    "import pandas as pd\n",
    "import matplotlib.pyplot as plt\n",
    "import os\n",
    "\n",
    "# Libraries for ARIMA modeling and time series analysis\n",
    "from statsmodels.tsa.arima.model import ARIMA\n",
    "from statsmodels.tsa.stattools import adfuller\n",
    "from statsmodels.graphics.tsaplots import plot_acf, plot_pacf\n",
    "\n",
    "# Library for model evaluation\n",
    "from sklearn.metrics import mean_squared_error\n"
   ]
  },
  {
   "cell_type": "code",
   "execution_count": null,
   "id": "314c702e",
   "metadata": {},
   "outputs": [],
   "source": [
    "# Define the absolute path to the dataset\n",
    "absolute_path = '/Users/alan/Downloads/NVDA.csv'\n",
    "df = pd.read_csv(absolute_path)\n",
    "\n",
    "# Convert the 'Date' column to a datetime object to handle time series data more efficiently\n",
    "df['Date'] = pd.to_datetime(df['Date'])\n",
    "df.set_index('Date', inplace=True)  # Setting 'Date' as index to facilitate time-based operations\n",
    "\n",
    "# Resample the data to business days. This is done to ensure that our data has uniform intervals.\n",
    "# 'ffill' stands for 'forward fill', and it fills any missing values in our dataset with the previous day's value.\n",
    "df = df.resample('B').ffill()\n"
   ]
  },
  {
   "cell_type": "code",
   "execution_count": null,
   "id": "e0237826",
   "metadata": {},
   "outputs": [],
   "source": [
    "# This plot provides a general view of the stock's behavior over time.\n",
    "df['Close'].plot(figsize=(15, 7))\n",
    "plt.title('Closing Price Over Time')\n",
    "plt.ylabel('Price')\n",
    "plt.xlabel('Date')\n",
    "plt.grid(True)\n",
    "plt.show()\n"
   ]
  },
  {
   "cell_type": "code",
   "execution_count": null,
   "id": "c805a8d7",
   "metadata": {},
   "outputs": [],
   "source": [
    "# The Augmented Dickey-Fuller test is a type of statistical test called a unit root test.\n",
    "# The intuition behind it is that it determines how strongly a time series is defined by a trend.\n",
    "result = adfuller(df['Close'])\n",
    "print('ADF Statistic:', result[0])\n",
    "print('p-value:', result[1])\n",
    "\n",
    "# If the series is not stationary (p-value > 0.05), difference the series to make it stationary\n",
    "# Differencing is a method used to make a non-stationary time series stationary.\n",
    "if result[1] > 0.05:\n",
    "    df['Close_diff'] = df['Close'].diff()\n",
    "    df.dropna(inplace=True)  # drop NA values resulting from differencing\n"
   ]
  },
  {
   "cell_type": "code",
   "execution_count": null,
   "id": "b34d431a",
   "metadata": {},
   "outputs": [],
   "source": [
    "# ACF and PACF plots are tools to help us decide the order of the AR and MA components in ARIMA model\n",
    "# ACF describes the autocorrelation between an observation and another observation at a prior time step \n",
    "# PACF provides the partial correlation of a time series with its own lagged values, controlling for the values of the time series at all shorter lags\n",
    "plot_acf(df['Close'])\n",
    "plt.show()\n",
    "\n",
    "plot_pacf(df['Close'])\n",
    "plt.show()\n"
   ]
  },
  {
   "cell_type": "code",
   "execution_count": null,
   "id": "cdcf20cb",
   "metadata": {},
   "outputs": [],
   "source": [
    "# Based on the ACF and PACF plots, and some domain knowledge, we set the ARIMA parameters.\n",
    "# 'p' is the order of the autoregressive term, 'd' is the number of differencing required to make the time series stationary,\n",
    "# and 'q' is the order of the moving average term.\n",
    "p = 1\n",
    "d = 1\n",
    "q = 1\n",
    "\n",
    "# Splitting the dataset into training and testing sets. \n",
    "# We'll train on 80% of the dataset and test our predictions on the remaining 20%.\n",
    "train_size = int(len(df) * 0.8)\n",
    "train, test = df['Close'][:train_size], df['Close'][train_size:]\n"
   ]
  },
  {
   "cell_type": "code",
   "execution_count": null,
   "id": "6e56355e",
   "metadata": {},
   "outputs": [],
   "source": [
    "# Initialize the ARIMA model with the determined parameters and the training data\n",
    "model = ARIMA(train, order=(p, d, q))\n",
    "\n",
    "# Fit the model to the training data\n",
    "model_fit = model.fit(disp=0)  # 'disp=0' means no debugging output \n",
    "\n",
    "# Use the fitted model to forecast the values for the test dataset\n",
    "forecast = model_fit.forecast(steps=len(test)).values\n",
    "\n",
    "# Evaluate the model's performance using Root Mean Squared Error (RMSE)\n",
    "# RMSE measures the differences between predicted and actual values.\n",
    "rmse = mean_squared_error(test, forecast, squared=False)\n",
    "print(f'Root Mean Squared Error (RMSE): {rmse}')\n",
    "\n",
    "# Plotting the actual vs. forecasted values for better\n"
   ]
  },
  {
   "cell_type": "code",
   "execution_count": null,
   "id": "7a846600",
   "metadata": {},
   "outputs": [],
   "source": [
    "# Forecast future values for a specific period\n",
    "forecast_dates = pd.date_range(start=\"2023-10-25\", end=\"2023-11-07\", freq='B')\n",
    "future_forecast = model_fit.forecast(steps=len(forecast_dates))\n",
    "\n",
    "# Convert these forecasts into a DataFrame for easier handling and visualization\n",
    "forecast_df = pd.DataFrame({\n",
    "    'Predicted_Close': future_forecast.values\n",
    "}, index=forecast_dates)\n",
    "\n",
    "# Display the future forecasts\n",
    "print(forecast_df)\n",
    "\n",
    "# Save the forecasts to a CSV file\n",
    "filename = \"Implementation2.csv\"\n",
    "current_directory = os.getcwd()\n",
    "full_path = os.path.join(current_directory, filename)\n",
    "forecast_df.to_csv(full_path)\n",
    "print(\"Predictions saved to Implementation2.csv!\")\n"
   ]
  }
 ],
 "metadata": {
  "kernelspec": {
   "display_name": "Python 3 (ipykernel)",
   "language": "python",
   "name": "python3"
  },
  "language_info": {
   "codemirror_mode": {
    "name": "ipython",
    "version": 3
   },
   "file_extension": ".py",
   "mimetype": "text/x-python",
   "name": "python",
   "nbconvert_exporter": "python",
   "pygments_lexer": "ipython3",
   "version": "3.11.4"
  }
 },
 "nbformat": 4,
 "nbformat_minor": 5
}
