{
 "cells": [
  {
   "cell_type": "code",
   "execution_count": null,
   "id": "a632b05b",
   "metadata": {
    "is_executing": true
   },
   "outputs": [],
   "source": [
    "# Importing necessary libraries for data processing, modeling, and visualization.\n",
    "import numpy as np\n",
    "import pandas as pd\n",
    "from sklearn.preprocessing import MinMaxScaler\n",
    "from keras.models import Sequential\n",
    "from keras.layers import LSTM, Dense\n",
    "from sklearn.metrics import mean_squared_error\n",
    "import matplotlib.pyplot as plt\n",
    "import os\n"
   ]
  },
  {
   "cell_type": "code",
   "execution_count": 2,
   "id": "a81f35d4",
   "metadata": {},
   "outputs": [
    {
     "data": {
      "text/plain": [
       "'/Users/alan/anaconda3/bin/python'"
      ]
     },
     "execution_count": 2,
     "metadata": {},
     "output_type": "execute_result"
    }
   ],
   "source": [
    "\n"
   ]
  },
  {
   "cell_type": "code",
   "execution_count": null,
   "id": "579123fa",
   "metadata": {},
   "outputs": [],
   "source": [
    "# Load the dataset\n",
    "absolute_path = '/Users/alan/Downloads/NVDA.csv'\n",
    "df = pd.read_csv(absolute_path)\n",
    "# Convert the 'Date' column to datetime format for time series analysis\n",
    "df['Date'] = pd.to_datetime(df['Date'])\n",
    "df.set_index('Date', inplace=True)\n",
    "\n",
    "# Normalize the stock prices between 0 and 1 to ensure faster convergence during training\n",
    "scaler = MinMaxScaler(feature_range=(0,1))\n",
    "scaled_data = scaler.fit_transform(df['Close'].values.reshape(-1,1))\n"
   ]
  },
  {
   "cell_type": "code",
   "execution_count": null,
   "id": "be202dd5",
   "metadata": {},
   "outputs": [],
   "source": [
    "# Splitting the dataset: 80% for training.\n",
    "training_data_len = int(np.ceil(len(scaled_data) * 0.8))\n",
    "\n",
    "# Creating training dataset: \n",
    "# Use the past 60 days stock prices to predict the next day's price\n",
    "x_train, y_train = [], []\n",
    "for i in range(60, training_data_len):\n",
    "    x_train.append(scaled_data[i-60:i, 0])\n",
    "    y_train.append(scaled_data[i, 0])\n",
    "x_train, y_train = np.array(x_train), np.array(y_train)\n",
    "x_train = np.reshape(x_train, (x_train.shape[0], x_train.shape[1], 1))\n"
   ]
  },
  {
   "cell_type": "code",
   "execution_count": null,
   "id": "7c61c41c",
   "metadata": {},
   "outputs": [],
   "source": [
    "# Splitting the dataset: 80% for training.\n",
    "training_data_len = int(np.ceil(len(scaled_data) * 0.8))\n",
    "\n",
    "# Creating training dataset: \n",
    "# Use the past 60 days stock prices to predict the next day's price\n",
    "x_train, y_train = [], []\n",
    "for i in range(60, training_data_len):\n",
    "    x_train.append(scaled_data[i-60:i, 0])\n",
    "    y_train.append(scaled_data[i, 0])\n",
    "x_train, y_train = np.array(x_train), np.array(y_train)\n",
    "x_train = np.reshape(x_train, (x_train.shape[0], x_train.shape[1], 1))\n"
   ]
  },
  {
   "cell_type": "code",
   "execution_count": null,
   "id": "ca46bb46",
   "metadata": {},
   "outputs": [],
   "source": [
    "# Creating test dataset:\n",
    "# Remaining 20% of the data with a rolling window of 60 days.\n",
    "test_data = scaled_data[training_data_len - 60:, :]\n",
    "x_test, y_test = [], df['Close'][training_data_len:].values\n",
    "for i in range(60, len(test_data)):\n",
    "    x_test.append(test_data[i-60:i, 0])\n",
    "x_test = np.array(x_test)\n",
    "x_test = np.reshape(x_test, (x_test.shape[0], x_test.shape[1], 1))\n",
    "\n",
    "# Making predictions using the trained LSTM model\n",
    "predictions = model.predict(x_test)\n",
    "# Converting normalized predictions back to original scale\n",
    "predictions = scaler.inverse_transform(predictions)\n"
   ]
  },
  {
   "cell_type": "code",
   "execution_count": null,
   "id": "a5f9b0cd",
   "metadata": {},
   "outputs": [],
   "source": [
    "# Calculating the Root Mean Squared Error to evaluate model's accuracy\n",
    "rmse = mean_squared_error(y_test, predictions, squared=False)\n",
    "print(f'Root Mean Squared Error (RMSE): {rmse}')\n",
    "\n",
    "# Visualizing the actual vs predicted stock prices to see how well our model performed\n",
    "plt.figure(figsize=(15,7))\n",
    "plt.plot(df.index[training_data_len:], y_test, label=\"Actual\", color='blue')\n",
    "plt.plot(df.index[training_data_len:], predictions, label=\"Predicted\", color='red')\n",
    "plt.title('Actual vs Predicted Prices')\n",
    "plt.legend()\n",
    "plt.show()\n"
   ]
  },
  {
   "cell_type": "code",
   "execution_count": null,
   "id": "e0d6b1ee",
   "metadata": {},
   "outputs": [],
   "source": [
    "# Predicting stock prices for upcoming dates:\n",
    "# The model will use the most recent 60 days of data to forecast future prices.\n",
    "future_dates = pd.date_range(start='2023-10-25', end='2023-11-07', freq='B')\n",
    "future_data = scaled_data[-60:]\n",
    "for i in range(len(future_dates)):\n",
    "    x = future_data[-60:]\n",
    "    x = x.reshape((1, 60, 1))\n",
    "    pred = model.predict(x)\n",
    "    future_data = np.append(future_data, pred)\n"
   ]
  },
  {
   "cell_type": "code",
   "execution_count": null,
   "id": "1bc4bdc7",
   "metadata": {},
   "outputs": [],
   "source": [
    "# Convert future predictions back to their original scale\n",
    "future_predictions = scaler.inverse_transform(future_data[-len(future_dates):].reshape(-1,1))\n",
    "\n",
    "# Store predictions in a DataFrame with corresponding dates\n",
    "forecast_df = pd.DataFrame(data=future_predictions, index=future_dates, columns=['Predicted Close'])\n",
    "\n",
    "# Save the predictions to a CSV file for further analysis or sharing\n",
    "filename = \"Implementation1.csv\"\n",
    "current_directory = os.getcwd()\n",
    "full_path = os.path.join(current_directory, filename)\n",
    "forecast_df.to_csv(full_path)\n",
    "\n",
    "print(\"Predictions saved to Implementation1.csv!\")\n"
   ]
  }
 ],
 "metadata": {
  "kernelspec": {
   "display_name": "Python 3 (ipykernel)",
   "language": "python",
   "name": "python3"
  },
  "language_info": {
   "codemirror_mode": {
    "name": "ipython",
    "version": 3
   },
   "file_extension": ".py",
   "mimetype": "text/x-python",
   "name": "python",
   "nbconvert_exporter": "python",
   "pygments_lexer": "ipython3",
   "version": "3.11.4"
  }
 },
 "nbformat": 4,
 "nbformat_minor": 5
}
